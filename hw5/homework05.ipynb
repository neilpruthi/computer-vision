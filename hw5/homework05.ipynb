{
  "nbformat": 4,
  "nbformat_minor": 0,
  "metadata": {
    "colab": {
      "name": "homework05.ipynb",
      "version": "0.3.2",
      "provenance": [],
      "collapsed_sections": [
        "gIp6dzlwIbw0",
        "j_-dO56ledsy",
        "5AMarkOTyVt3"
      ]
    },
    "kernelspec": {
      "name": "python3",
      "display_name": "Python 3"
    }
  },
  "cells": [
    {
      "metadata": {
        "colab_type": "text",
        "id": "_4pJohDkIbwu",
        "tags": [
          "T"
        ]
      },
      "cell_type": "markdown",
      "source": [
        "> **Student Names and IDs**:\n",
        ">\n",
        "> - Student 1, ID1 (Replace this item with your first and last name and student ID number.\n",
        "Add more items like this as needed, including the `> -` characters at the beginning,\n",
        "which generate the indent and the bullet.)"
      ]
    },
    {
      "metadata": {
        "colab_type": "text",
        "id": "93F4Xn6mIbww",
        "tags": [
          "HST"
        ]
      },
      "cell_type": "markdown",
      "source": [
        "# Homework 5"
      ]
    },
    {
      "metadata": {
        "colab_type": "text",
        "id": "aymIv7MFIbwz",
        "tags": [
          "HST"
        ]
      },
      "cell_type": "markdown",
      "source": [
        "## Homework Submission Workflow\n",
        "\n",
        "When you submit your work, follow the instructions on the [submission workflow page](https://www.cs.duke.edu/courses/fall18/compsci371d/homework/workflow.html) for full credit, but see the changes mentioned below.\n",
        "\n",
        "**Important: Failure to do any of the following will result in lost points:**\n",
        "\n",
        "- Submit **one** PDF file and **one** notebook per group\n",
        "\n",
        "- Enter **all the group members** through the Gradescope GUI when you submit your PDF files. It is **not** enough to list group members in your documents\n",
        "\n",
        "- Match each **answer** (not question!) with the appropriate page in Gradescope\n",
        "\n",
        "- Avoid large blank spaces in your PDF file\n",
        "\n",
        "**Important changes to homework preparation workflow:** _This assignment is different from the others in that you are required to run it on the Google Colaboratory, a cloud service that Google makes available for reseach in machine learning. This is necessary because some of the problems require you to train a deep network on hardware that is faster than what is typically available on a standard laptop or desktop, including a high-end GPU. Even if you do have a high-end GPU, please run your notebook on the Colaboratory, so we can grade your work consistently._\n",
        "\n",
        "_**To work on this assignment, go to the [Colaboratory](https://colab.research.google.com) and upload the template notebook for this assignment through the `File` menu at the top of the Colaboratory page. Then work on the assignment, making sure to pay attention to instructions in Part 4 where you are asked to change the runtime type.**_\n",
        "\n",
        "_**When you are done, download the notebook (after making sure that all the outputs from running the code show up properly), and proceed as usual to turn that notebook into a PDF file for submission.**_\n",
        "\n",
        "#### Programming Notes\n",
        "\n",
        "+ The Colaboratory is a cloud service. If a notebook sits idle for a long time, it automatically disconnects from its execution kernel, and you need to rerun all the cells.\n",
        "+ Some of the cells in the Part on neural networks are to be run with different runtime types, as explained later. Because of this, you will not be able to just restart the notebook and run all its cells with a single command. Instead, you need to run the cells one at a time, changing runtime type as instructed. Make sure you do this once you are done with the assignment, making sure that the output from your code matches the text where you describe that output.\n",
        "+ Depending on circumstances, changing the runtime type may erase some or all of the notebook state. This will require you to rerun the cells that generate state.\n",
        "+ Training depends on random initialization of the network parameters. Because of this, your results may vary relative to the sample solution, even if your code is no different. Results may also vary from run to run."
      ]
    },
    {
      "metadata": {
        "colab_type": "text",
        "id": "gIp6dzlwIbw0",
        "tags": [
          "HST"
        ]
      },
      "cell_type": "markdown",
      "source": [
        "## Part 1: Exam-Style Questions, Set 1"
      ]
    },
    {
      "metadata": {
        "colab_type": "text",
        "id": "6o90sGDiK4aF",
        "tags": [
          "HST"
        ]
      },
      "cell_type": "markdown",
      "source": [
        "The small neural net in the figure below uses the ReLU as the nonlinearity at the output of each neuron. The values specified in the hollow circles are biases, and the values along the edges are gains. Weigths number 1, 2, 3 refer to the first neuron, 4, 5,6 to the second, 7, 8, 9 to the third."
      ]
    },
    {
      "metadata": {
        "colab_type": "text",
        "id": "CakDYmy0Mk13",
        "tags": [
          "HST"
        ]
      },
      "cell_type": "markdown",
      "source": [
        "![a simple neural network](https://www2.cs.duke.edu/courses/spring19/compsci527/homework/5/netSimple.png)"
      ]
    },
    {
      "metadata": {
        "colab_type": "text",
        "id": "tdrtWLQ5JZ7q",
        "tags": [
          "HST"
        ]
      },
      "cell_type": "markdown",
      "source": [
        "### Problem 1.1"
      ]
    },
    {
      "metadata": {
        "colab_type": "text",
        "id": "CacoODWaJdmL",
        "tags": [
          "HST"
        ]
      },
      "cell_type": "markdown",
      "source": [
        "Are all the layers in the net above fully connected?"
      ]
    },
    {
      "metadata": {
        "colab_type": "text",
        "id": "WJ9w1-GpN1FM",
        "tags": [
          "ST"
        ]
      },
      "cell_type": "markdown",
      "source": [
        "### Answer"
      ]
    },
    {
      "metadata": {
        "colab_type": "text",
        "id": "4o_0Co16OJ-v",
        "tags": [
          "HST"
        ]
      },
      "cell_type": "markdown",
      "source": [
        "### Problem 1.2"
      ]
    },
    {
      "metadata": {
        "colab_type": "text",
        "id": "WmVrDJydN7OP",
        "tags": [
          "HST"
        ]
      },
      "cell_type": "markdown",
      "source": [
        "What is the output $y$ from the net above when the input is as follows?\n",
        "\n",
        "$$\n",
        "x_1 = 0 \\;\\;\\; \\text{and}\\;\\;\\; x_2 = 3\n",
        "$$"
      ]
    },
    {
      "metadata": {
        "colab_type": "text",
        "id": "G-LZGjFMORa8",
        "tags": [
          "ST"
        ]
      },
      "cell_type": "markdown",
      "source": [
        "### Answer"
      ]
    },
    {
      "metadata": {
        "colab_type": "text",
        "id": "rP4qW1wUQapl",
        "tags": [
          "HST"
        ]
      },
      "cell_type": "markdown",
      "source": [
        "### Problem 1.3"
      ]
    },
    {
      "metadata": {
        "colab_type": "text",
        "id": "2WZXG8wNQeJ5",
        "tags": [
          "HST"
        ]
      },
      "cell_type": "markdown",
      "source": [
        "What is the gradient $\\mathbf{g}$ of the output $y$ of the network above with respect to the weight vector\n",
        "\n",
        "$$\n",
        "\\mathbf{w} = [w_1,\\ w_2,\\ w_3,\\ w_4,\\ w_5,\\ w_6,\\ w_7,\\ w_8,\\ w_9]^T\n",
        "$$\n",
        "\n",
        "when the input has the values given in the previous problem? Just give the result if you are confident of your answer."
      ]
    },
    {
      "metadata": {
        "colab_type": "text",
        "id": "5fVXbN93RDq7",
        "tags": [
          "ST"
        ]
      },
      "cell_type": "markdown",
      "source": [
        "### Answer"
      ]
    },
    {
      "metadata": {
        "colab_type": "text",
        "id": "j_-dO56ledsy",
        "tags": [
          "HST"
        ]
      },
      "cell_type": "markdown",
      "source": [
        "\n",
        "## Part 2: Exam-Style Questions, Set 2\n",
        "\n",
        "\n"
      ]
    },
    {
      "metadata": {
        "colab_type": "text",
        "id": "CWV3624YZjhu",
        "tags": [
          "HST"
        ]
      },
      "cell_type": "markdown",
      "source": [
        "Let $\\mathbf{p} = f(\\mathbf{x})$ be the output of the network's soft-max layer of some neural network classifier with $K$ layers when the network's input is $\\mathbf{x}$. The classifier's output is then\n",
        "\n",
        "$$\n",
        "\\hat{y} = \\arg\\max \\mathbf{p}\\;.\n",
        "$$\n",
        "\n",
        "If $y_n$ is the true label corresponding to training input $\\mathbf{x}_n$, the loss is $\\ell_n = \\ell(y_n, f(\\mathbf{x}_n))$ for some appropriate loss function $\\ell(y, \\mathbf{p})$.\n",
        "\n",
        "We saw in class that if $\\mathbf{x}^{(k)}$ is the output from layer $k$ and $\\mathbf{w}^{(k)}$ is a vector with all the parameters in layer $k$, then back-propagation computes the partial derivatives by the following recursion,  where $\\mathbf{x}^{(0)} = \\mathbf{x}$ is the input to the network and $\\mathbf{x}^{(K)} = \\mathbf{p}$:\n",
        "\n",
        "\\begin{eqnarray*}\n",
        "\\frac{\\partial \\ell_n}{\\partial \\mathbf{w}^{(k)}} &=& \\frac{\\partial \\ell_n}{\\partial \\mathbf{x}^{(k)}} \\frac{\\partial \\mathbf{x}^{(k)}}{\\partial \\mathbf{w}^{(k)}}\n",
        "\\;\\;\\;\\text{for}\\;\\;\\; k = K,\\ldots, 1 \\\\\n",
        "\\frac{\\partial \\ell_n}{\\partial \\mathbf{x}^{(k-1)}} &=& \\frac{\\partial \\ell_n}{\\partial \\mathbf{x}^{(k)}} \\frac{\\partial \\mathbf{x}^{(k)}}{\\partial \\mathbf{x}^{(k-1)}}\n",
        "\\;\\;\\;\\text{for}\\;\\;\\; k = K,\\ldots, 2\\\\\n",
        "\\frac{\\partial \\ell_n}{\\partial \\mathbf{x}^{(K)}} &=& \\frac{\\partial \\ell}{\\partial \\mathbf{p}}\n",
        "\\end{eqnarray*}\n",
        "\n",
        "The derivatives above are computed for the $n$-th training sample $(\\mathbf{x}_n, y_n)$ and for the values of $\\mathbf{w}^{(k)}$ that are current at any given point during training."
      ]
    },
    {
      "metadata": {
        "colab_type": "text",
        "id": "cNK7pnfDesaH",
        "tags": [
          "HST"
        ]
      },
      "cell_type": "markdown",
      "source": [
        "### Problem 2.1"
      ]
    },
    {
      "metadata": {
        "colab_type": "text",
        "id": "vY-vJZ_Peu9c",
        "tags": [
          "HST"
        ]
      },
      "cell_type": "markdown",
      "source": [
        "Suppose that the network has only fully-connected layers (with ReLU nonlinearities) before the soft-max. Refer in detail to the equations given above to explain clearly why training would not work if the parameter vector $\\mathbf{w} = [\\mathbf{w}^{(1)},\\ldots, \\mathbf{w}^{(K)}]^T$ is initialized with zeros for training."
      ]
    },
    {
      "metadata": {
        "colab_type": "text",
        "id": "I5CVu5NXhUpK",
        "tags": [
          "ST"
        ]
      },
      "cell_type": "markdown",
      "source": [
        "### Answer"
      ]
    },
    {
      "metadata": {
        "colab_type": "text",
        "id": "2Vx-msEHjfdn",
        "tags": [
          "HST"
        ]
      },
      "cell_type": "markdown",
      "source": [
        "### Problem 2.2"
      ]
    },
    {
      "metadata": {
        "colab_type": "text",
        "id": "NJnaTzLfjiGt",
        "tags": [
          "HST"
        ]
      },
      "cell_type": "markdown",
      "source": [
        "A neural net classifier with only fully-connected layers (with ReLU nonlinearities) and a soft-max layer at its output has parameter vector $\\mathbf{w}$, and the network implements the function $f(\\mathbf{x}, \\mathbf{w})$ for any network input $\\mathbf{x}$. Is $\\mathbf{w} = \\mathbf{0}$ a stationary point for the function $\\phi(\\mathbf{w}) = f(\\mathbf{x}, \\mathbf{w})$ when $\\mathbf{x}$ is fixed? Justify your answer."
      ]
    },
    {
      "metadata": {
        "colab_type": "text",
        "id": "OxjAkNkzkDHo",
        "tags": [
          "ST"
        ]
      },
      "cell_type": "markdown",
      "source": [
        "### Answer"
      ]
    },
    {
      "metadata": {
        "colab_type": "text",
        "id": "Rla5OsKGk1zi",
        "tags": [
          "HST"
        ]
      },
      "cell_type": "markdown",
      "source": [
        "### Problem 2.3"
      ]
    },
    {
      "metadata": {
        "colab_type": "text",
        "id": "lE3Uoh6Hk5jp",
        "tags": [
          "HST"
        ]
      },
      "cell_type": "markdown",
      "source": [
        "Stochastic gradient descent with momentum is used to train a certain neural network with $m$ parameters. Just before iteration $t$ of training is performed, the parameter vector has value $\\mathbf{w}_t$, and the velocity (or step) is $\\mathbf{v}_t = \\mathbf{a}$, where $\\mathbf{a}$ is some nonzero vector in $\\mathbb{R}^m$ (refer to the class notes for notation). The momentum coefficient is kept constant at $\\mu = 0.9$ throughout training. If the risk function has a saddle point at $\\mathbf{w}_t$, what is the step $\\mathbf{v}_{t+1}$ at iteration $t$?"
      ]
    },
    {
      "metadata": {
        "colab_type": "text",
        "id": "qTU6DAPRn1hN",
        "tags": [
          "ST"
        ]
      },
      "cell_type": "markdown",
      "source": [
        "### Answer"
      ]
    },
    {
      "metadata": {
        "colab_type": "text",
        "id": "QwMq7SK4nFwU",
        "tags": [
          "HST"
        ]
      },
      "cell_type": "markdown",
      "source": [
        "### Problem 2.4"
      ]
    },
    {
      "metadata": {
        "colab_type": "text",
        "id": "iEaE7twinHyl",
        "tags": [
          "HST"
        ]
      },
      "cell_type": "markdown",
      "source": [
        "A friend of yours argues that in the situation described in the previous problem, the steps after iteration $t$ decay exponentially. Her argument is based on the fact that the risk is at a saddle point at $\\mathbf{w}_t$, and the momentum coefficient is constant, so that $\\mathbf{v}_{t+\\tau} = \\mu^{\\tau}\\mathbf{a}$, an exponential decay. Explain why your friend's argument is wrong."
      ]
    },
    {
      "metadata": {
        "colab_type": "text",
        "id": "mA05ns5Unt_6",
        "tags": [
          "ST"
        ]
      },
      "cell_type": "markdown",
      "source": [
        "### Answer"
      ]
    },
    {
      "metadata": {
        "colab_type": "text",
        "id": "lfRyRIt3qCoz",
        "tags": [
          "HST"
        ]
      },
      "cell_type": "markdown",
      "source": [
        "### Problem 2.5"
      ]
    },
    {
      "metadata": {
        "colab_type": "text",
        "id": "RWfz9zLXqFAV",
        "tags": [
          "HST"
        ]
      },
      "cell_type": "markdown",
      "source": [
        "In the situation described in Problem 2.3, will the training algorithm always eventually converge back towards $\\mathbf{w}_t$? Explain your answer briefly and clearly."
      ]
    },
    {
      "metadata": {
        "colab_type": "text",
        "id": "zv-spO4mqZcT",
        "tags": [
          "ST"
        ]
      },
      "cell_type": "markdown",
      "source": [
        "### Answer"
      ]
    },
    {
      "metadata": {
        "colab_type": "text",
        "id": "5AMarkOTyVt3",
        "tags": [
          "HST"
        ]
      },
      "cell_type": "markdown",
      "source": [
        "## Part 3: Exam-Style Questions, Set 3"
      ]
    },
    {
      "metadata": {
        "colab_type": "text",
        "id": "74EwMXGkyYgz",
        "tags": [
          "HST"
        ]
      },
      "cell_type": "markdown",
      "source": [
        "The following problems take you through the computation of the set of all least-squares solutions to the following linear system:\n",
        "\n",
        "\\begin{eqnarray*}\n",
        "3x + 4y &=& 2\\\\\n",
        "3x + 4y &=& 3\n",
        "\\end{eqnarray*}\n",
        "\n",
        "and the solutions to a related optimization problem.\n",
        "All the answers to the questions in this problem are numerical and exact. They refer only to the data given in the problem, and no more general answers are required. You may leave your answers in the form of fractions, with expressions like the following:\n",
        "\n",
        "$$\n",
        "\\frac{\\sqrt{3}}{2} \\left[\\begin{array}{c} 2\\\\-5\\end{array}\\right]\\;,\n",
        "$$\n",
        "\n",
        "but please simplify as much as possible.\n",
        "\n",
        "_As usual, it is easiest to answer these questions using software (and perhaps guess the exact values from the approximate ones output by your code). However, this would rob you of the opportunity to understand this material and to practice for the exam. **In any event, no answers will be accepted to problems in this part that embed software in your submission.**_\n"
      ]
    },
    {
      "metadata": {
        "colab_type": "text",
        "id": "ac8j8SGdzDr9",
        "tags": [
          "HST"
        ]
      },
      "cell_type": "markdown",
      "source": [
        "### Problem 3.1"
      ]
    },
    {
      "metadata": {
        "colab_type": "text",
        "id": "9R-zasYizH16",
        "tags": [
          "HST"
        ]
      },
      "cell_type": "markdown",
      "source": [
        "What are $A$ and $\\mathbf{b}$ if we write the system in this problem in the following form?\n",
        "$$\n",
        "A \\mathbf{x} = \\mathbf{b}\n",
        "$$"
      ]
    },
    {
      "metadata": {
        "colab_type": "text",
        "id": "v6jJC2xuzKS5",
        "tags": [
          "ST"
        ]
      },
      "cell_type": "markdown",
      "source": [
        "### Answer"
      ]
    },
    {
      "metadata": {
        "colab_type": "text",
        "id": "eJoEvX1bzPDh",
        "tags": [
          "HST"
        ]
      },
      "cell_type": "markdown",
      "source": [
        "### Problem 3.2"
      ]
    },
    {
      "metadata": {
        "colab_type": "text",
        "id": "zA4CavTxzReO",
        "tags": [
          "HST"
        ]
      },
      "cell_type": "markdown",
      "source": [
        "What is the rank of $A$?"
      ]
    },
    {
      "metadata": {
        "colab_type": "text",
        "id": "aplEQX65zUHW",
        "tags": [
          "ST"
        ]
      },
      "cell_type": "markdown",
      "source": [
        "### Answer"
      ]
    },
    {
      "metadata": {
        "colab_type": "text",
        "id": "KOrmLSUVzWM6",
        "tags": [
          "HST"
        ]
      },
      "cell_type": "markdown",
      "source": [
        "### Problem 3.3"
      ]
    },
    {
      "metadata": {
        "colab_type": "text",
        "id": "MUH5dslBzapt",
        "tags": [
          "HST"
        ]
      },
      "cell_type": "markdown",
      "source": [
        "Give a _unit_ column vector $\\mathbf{r}$ that spans the row space of $A$."
      ]
    },
    {
      "metadata": {
        "colab_type": "text",
        "id": "p7vpRTgKzfEi",
        "tags": [
          "ST"
        ]
      },
      "cell_type": "markdown",
      "source": [
        "### Answer"
      ]
    },
    {
      "metadata": {
        "colab_type": "text",
        "id": "DbW0YgUWzjQc",
        "tags": [
          "HST"
        ]
      },
      "cell_type": "markdown",
      "source": [
        "### Problem 3.4"
      ]
    },
    {
      "metadata": {
        "colab_type": "text",
        "id": "q6kAPv09zlWk",
        "tags": [
          "HST"
        ]
      },
      "cell_type": "markdown",
      "source": [
        "Give a _unit_ column vector $\\mathbf{n}$ that spans the null space of $A$."
      ]
    },
    {
      "metadata": {
        "colab_type": "text",
        "id": "23yZJ6GCzo2K",
        "tags": [
          "ST"
        ]
      },
      "cell_type": "markdown",
      "source": [
        "### Answer"
      ]
    },
    {
      "metadata": {
        "colab_type": "text",
        "id": "nOm2a0USzwU0",
        "tags": [
          "HST"
        ]
      },
      "cell_type": "markdown",
      "source": [
        "### Problem 3.5"
      ]
    },
    {
      "metadata": {
        "colab_type": "text",
        "id": "cMNnKIARzyfL",
        "tags": [
          "HST"
        ]
      },
      "cell_type": "markdown",
      "source": [
        "Write the matrix $V$ in the SVD $A = U\\Sigma V^T$ of $A$."
      ]
    },
    {
      "metadata": {
        "colab_type": "text",
        "id": "c7U8WqRUz0ct",
        "tags": [
          "ST"
        ]
      },
      "cell_type": "markdown",
      "source": [
        "### Answer"
      ]
    },
    {
      "metadata": {
        "colab_type": "text",
        "id": "zk41d7sBz5GS",
        "tags": [
          "HST"
        ]
      },
      "cell_type": "markdown",
      "source": [
        "### Problem 3.6"
      ]
    },
    {
      "metadata": {
        "colab_type": "text",
        "id": "ZK3cYMIkz7Jc",
        "tags": [
          "HST"
        ]
      },
      "cell_type": "markdown",
      "source": [
        "Compute the matrices $U$ and $\\Sigma$ in the SVD of $A$. [Hint: compute $U\\Sigma$ first.]"
      ]
    },
    {
      "metadata": {
        "colab_type": "text",
        "id": "T3ZNlDaUz9gQ",
        "tags": [
          "ST"
        ]
      },
      "cell_type": "markdown",
      "source": [
        "### Answer"
      ]
    },
    {
      "metadata": {
        "colab_type": "text",
        "id": "xHCt-FvH0FDT",
        "tags": [
          "HST"
        ]
      },
      "cell_type": "markdown",
      "source": [
        "### Problem 3.7"
      ]
    },
    {
      "metadata": {
        "colab_type": "text",
        "id": "EhxCKF6U0HwH",
        "tags": [
          "HST"
        ]
      },
      "cell_type": "markdown",
      "source": [
        "Compute the pseudo-inverse $A^{\\dagger}$ of $A$."
      ]
    },
    {
      "metadata": {
        "colab_type": "text",
        "id": "63rXWdST0KZN",
        "tags": [
          "ST"
        ]
      },
      "cell_type": "markdown",
      "source": [
        "### Answer"
      ]
    },
    {
      "metadata": {
        "colab_type": "text",
        "id": "hllY12AA0PKi",
        "tags": [
          "HST"
        ]
      },
      "cell_type": "markdown",
      "source": [
        "### Problem 3.8"
      ]
    },
    {
      "metadata": {
        "colab_type": "text",
        "id": "MnjLAWvt0Q06",
        "tags": [
          "HST"
        ]
      },
      "cell_type": "markdown",
      "source": [
        "Find the minimum-norm least-squares solution $\\mathbf{x}^*$ of the system $A\\mathbf{x} = \\mathbf{b}$."
      ]
    },
    {
      "metadata": {
        "colab_type": "text",
        "id": "2RgECzBj0TVw",
        "tags": [
          "ST"
        ]
      },
      "cell_type": "markdown",
      "source": [
        "### Answer"
      ]
    },
    {
      "metadata": {
        "colab_type": "text",
        "id": "MDz6wROp0ZIr",
        "tags": [
          "HST"
        ]
      },
      "cell_type": "markdown",
      "source": [
        "### Problem 3.9"
      ]
    },
    {
      "metadata": {
        "colab_type": "text",
        "id": "0P5mlHPz0bTA",
        "tags": [
          "HST"
        ]
      },
      "cell_type": "markdown",
      "source": [
        "Give an expression for the set $S$ of all least-squares solutions of the system $A\\mathbf{x} = \\mathbf{b}$."
      ]
    },
    {
      "metadata": {
        "colab_type": "text",
        "id": "K2ZKErfi0dwK",
        "tags": [
          "ST"
        ]
      },
      "cell_type": "markdown",
      "source": [
        "### Answer"
      ]
    },
    {
      "metadata": {
        "colab_type": "text",
        "id": "8vQg6So00ij9",
        "tags": [
          "HST"
        ]
      },
      "cell_type": "markdown",
      "source": [
        "### Problem 3.10"
      ]
    },
    {
      "metadata": {
        "colab_type": "text",
        "id": "ghlx7z5s0lkG",
        "tags": [
          "HST"
        ]
      },
      "cell_type": "markdown",
      "source": [
        "Find all the solutions to\n",
        "\n",
        "$$\n",
        " \\hat{\\mathbf{x}} = \\arg\\min_{\\|\\mathbf{x}\\| = 1} \\|A\\mathbf{x}\\|\\;.\n",
        "$$"
      ]
    },
    {
      "metadata": {
        "colab_type": "text",
        "id": "wXELtk700oFd",
        "tags": [
          "ST"
        ]
      },
      "cell_type": "markdown",
      "source": [
        "### Answer"
      ]
    },
    {
      "metadata": {
        "colab_type": "text",
        "id": "8GZdQ7IsoUVR",
        "tags": [
          "HST"
        ]
      },
      "cell_type": "markdown",
      "source": [
        "## Part 4: Neural Networks"
      ]
    },
    {
      "metadata": {
        "colab_type": "text",
        "id": "4gQIvWQAzhzm",
        "tags": [
          "HST"
        ]
      },
      "cell_type": "markdown",
      "source": [
        "The code in this part is somewhat modified from the [Keras documentation](https://keras.io/examples/cifar10_cnn/). It downloads the CIFAR-10 dataset, a set of 60000 labeled images grouped in 10 categories, which it splits into training, validation, and test sets. It then defines a function `network` that returns a simple convolutional neural network (the `model`), and a function `train` that trains the model for a single epoch by default, checking performance on the validation set. The function `train` also saves the trained model in a file in the cloud and evaluates the model on the test data. Finally, it returns a history of training and validation accuracies achieved after each epoch of training. The function `train` uses SGD as the default optimizer.\n",
        "\n",
        "_**Important:**_ Make sure you select Python 3 through the `Runtime->Change runtime type` menu at the top of the notebook. Also set the hardware acceleration to `None` in that same menu. We will turn on GPU acceleration later on. TPU acceleration is not always available, so we won't use it."
      ]
    },
    {
      "metadata": {
        "colab_type": "code",
        "id": "JM7Sh_kizkO-",
        "outputId": "9f7bf39e-712b-4fc3-a2b6-48cdd5687663",
        "tags": [
          "HST"
        ],
        "colab": {
          "base_uri": "https://localhost:8080/",
          "height": 134
        }
      },
      "cell_type": "code",
      "source": [
        "from __future__ import print_function\n",
        "import keras\n",
        "from keras.datasets import cifar10\n",
        "from sklearn.model_selection import train_test_split\n",
        "\n",
        "num_classes = 10\n",
        "\n",
        "# The data, split between train, validation, and test sets:\n",
        "(x_train, y_train), (x_test, y_test) = cifar10.load_data()\n",
        "(x_train, x_validate, y_train, y_validate) = train_test_split(x_train, y_train,\n",
        "                                                             test_size=0.2)\n",
        "print('x_train shape:', x_train.shape)\n",
        "print(x_train.shape[0], 'training samples')\n",
        "print(x_validate.shape[0], 'validation samples')\n",
        "print(x_test.shape[0], 'test samples')\n",
        "\n",
        "# Convert class vectors to binary class matrices.\n",
        "y_train = keras.utils.to_categorical(y_train, num_classes)\n",
        "y_validate = keras.utils.to_categorical(y_validate, num_classes)\n",
        "y_test = keras.utils.to_categorical(y_test, num_classes)\n",
        "\n",
        "x_train = x_train.astype('float32')\n",
        "x_validate = x_validate.astype('float32')\n",
        "x_test = x_test.astype('float32')\n",
        "x_train /= 255\n",
        "x_validate /= 255\n",
        "x_test /= 255"
      ],
      "execution_count": 0,
      "outputs": [
        {
          "output_type": "stream",
          "text": [
            "Using TensorFlow backend.\n"
          ],
          "name": "stderr"
        },
        {
          "output_type": "stream",
          "text": [
            "Downloading data from https://www.cs.toronto.edu/~kriz/cifar-10-python.tar.gz\n",
            "170500096/170498071 [==============================] - 86s 1us/step\n",
            "x_train shape: (40000, 32, 32, 3)\n",
            "40000 training samples\n",
            "10000 validation samples\n",
            "10000 test samples\n"
          ],
          "name": "stdout"
        }
      ]
    },
    {
      "metadata": {
        "colab_type": "code",
        "id": "FBMRAFNN5k6S",
        "tags": [
          "HST"
        ],
        "outputId": "27505960-3b3d-4f02-b88c-0ea240059d9c",
        "colab": {
          "base_uri": "https://localhost:8080/",
          "height": 138
        }
      },
      "cell_type": "code",
      "source": [
        "from keras.models import Sequential\n",
        "from keras.layers import Dense, Dropout, Activation, Flatten\n",
        "from keras.layers import Conv2D, MaxPooling2D\n",
        "\n",
        "activation_function = 'relu'\n",
        "\n",
        "def network(activation_function='relu'):\n",
        "  model = Sequential()\n",
        "  model.add(Conv2D(32, (3, 3), padding='same',\n",
        "                  input_shape=x_train.shape[1:]))\n",
        "  model.add(Activation(activation_function))\n",
        "  model.add(Conv2D(32, (3, 3)))\n",
        "  model.add(Activation(activation_function))\n",
        "  model.add(MaxPooling2D(pool_size=(2, 2)))\n",
        "  model.add(Dropout(0.25))\n",
        "\n",
        "  model.add(Conv2D(64, (3, 3), padding='same'))\n",
        "  model.add(Activation(activation_function))\n",
        "  model.add(Conv2D(64, (3, 3)))\n",
        "  model.add(Activation(activation_function))\n",
        "  model.add(MaxPooling2D(pool_size=(2, 2)))\n",
        "  model.add(Dropout(0.25))\n",
        "\n",
        "  model.add(Flatten())\n",
        "  model.add(Dense(512))\n",
        "  model.add(Activation(activation_function))\n",
        "  model.add(Dropout(0.5))\n",
        "  model.add(Dense(num_classes))\n",
        "  model.add(Activation('softmax'))\n",
        "  \n",
        "  return model\n",
        "\n",
        "model = network()"
      ],
      "execution_count": 0,
      "outputs": [
        {
          "output_type": "stream",
          "text": [
            "WARNING:tensorflow:From /usr/local/lib/python3.6/dist-packages/tensorflow/python/framework/op_def_library.py:263: colocate_with (from tensorflow.python.framework.ops) is deprecated and will be removed in a future version.\n",
            "Instructions for updating:\n",
            "Colocations handled automatically by placer.\n",
            "WARNING:tensorflow:From /usr/local/lib/python3.6/dist-packages/keras/backend/tensorflow_backend.py:3445: calling dropout (from tensorflow.python.ops.nn_ops) with keep_prob is deprecated and will be removed in a future version.\n",
            "Instructions for updating:\n",
            "Please use `rate` instead of `keep_prob`. Rate should be set to `rate = 1 - keep_prob`.\n"
          ],
          "name": "stdout"
        }
      ]
    },
    {
      "metadata": {
        "colab_type": "code",
        "id": "35sd9xJr55eM",
        "tags": [
          "HST"
        ],
        "colab": {}
      },
      "cell_type": "code",
      "source": [
        "from keras.preprocessing.image import ImageDataGenerator\n",
        "import os\n",
        "from math import ceil\n",
        "\n",
        "def train(model, epochs=1,\n",
        "          opt = keras.optimizers.SGD(lr=0.01, momentum=0.7, decay=0.001),\n",
        "          verbose=2):\n",
        "\n",
        "  batch_size = 32\n",
        "  save_dir = os.path.join(os.getcwd(), 'saved_models')\n",
        "  model_name = 'keras_cifar10_trained_model.h5'\n",
        "\n",
        "  # Configure the model for training\n",
        "  model.compile(loss='categorical_crossentropy',\n",
        "                optimizer=opt,\n",
        "                metrics=['accuracy'])\n",
        "\n",
        "  history = model.fit(x_train, y_train,\n",
        "                      batch_size=batch_size,\n",
        "                      epochs=epochs,\n",
        "                      validation_data=(x_validate, y_validate),\n",
        "                      shuffle=True,\n",
        "                      verbose=verbose)\n",
        "\n",
        "  # Save model and weights\n",
        "  if not os.path.isdir(save_dir):\n",
        "    os.makedirs(save_dir)\n",
        "  model_path = os.path.join(save_dir, model_name)\n",
        "  model.save(model_path)\n",
        "\n",
        "  # Score trained model.\n",
        "  scores = model.evaluate(x_test, y_test, verbose=1)\n",
        "  print('Test loss:', scores[0])\n",
        "  print('Test accuracy:', scores[1])\n",
        "  return [history.epoch, history.history['acc'], history.history['val_acc']]"
      ],
      "execution_count": 0,
      "outputs": []
    },
    {
      "metadata": {
        "colab_type": "text",
        "id": "JMElXg2ETjAE",
        "tags": [
          "HST"
        ]
      },
      "cell_type": "markdown",
      "source": [
        "### Problem 4.1\n"
      ]
    },
    {
      "metadata": {
        "colab_type": "text",
        "id": "oDnPx1gdT5Jm",
        "tags": [
          "HST"
        ]
      },
      "cell_type": "markdown",
      "source": [
        "Using Stochastic Gradient Descent (SGD) with the default parameters in `train`, train the model for one epoch _with no hardware acceleration_.\n",
        "\n",
        "Show your call to `train` and the outputs it generates. Is validation accuracy a reasonably good estimate of test accuracy?"
      ]
    },
    {
      "metadata": {
        "colab_type": "text",
        "id": "73TQApgKiGY_",
        "tags": [
          "HST"
        ]
      },
      "cell_type": "markdown",
      "source": [
        "#### Programming Notes\n",
        "\n",
        "+ Hardware acceleration is turned off through the `Runtime->Change runtime type` menu at the top of the notebook, and selecting `None` for hardware acceleration.\n",
        "\n",
        "+ Depending on circumstances, after you change the runtime type, some or all of the notebook state may be lost. This will require you to rerun some of the cells above.\n",
        "\n",
        "+ Tensorflow may generate warning messages that depend on how the Colaboratory interface is implemented. These messages are typically harmless."
      ]
    },
    {
      "metadata": {
        "colab_type": "text",
        "id": "5sYqNFyUVxdy",
        "tags": [
          "ST"
        ]
      },
      "cell_type": "markdown",
      "source": [
        "### Answer"
      ]
    },
    {
      "metadata": {
        "id": "iHSJs4KdTfgp",
        "colab_type": "code",
        "outputId": "fc31938e-8784-4e67-ba3f-4ae3c9a26a20",
        "colab": {
          "base_uri": "https://localhost:8080/",
          "height": 205
        }
      },
      "cell_type": "code",
      "source": [
        "train(model)"
      ],
      "execution_count": 0,
      "outputs": [
        {
          "output_type": "stream",
          "text": [
            "WARNING:tensorflow:From /usr/local/lib/python3.6/dist-packages/tensorflow/python/ops/math_ops.py:3066: to_int32 (from tensorflow.python.ops.math_ops) is deprecated and will be removed in a future version.\n",
            "Instructions for updating:\n",
            "Use tf.cast instead.\n",
            "Train on 40000 samples, validate on 10000 samples\n",
            "Epoch 1/1\n",
            " - 218s - loss: 1.9782 - acc: 0.2718 - val_loss: 1.6760 - val_acc: 0.3844\n",
            "10000/10000 [==============================] - 16s 2ms/step\n",
            "Test loss: 1.6521208040237427\n",
            "Test accuracy: 0.396\n"
          ],
          "name": "stdout"
        },
        {
          "output_type": "execute_result",
          "data": {
            "text/plain": [
              "[[0], [0.2718], [0.3844]]"
            ]
          },
          "metadata": {
            "tags": []
          },
          "execution_count": 5
        }
      ]
    },
    {
      "metadata": {
        "id": "2KcyGxO6dXko",
        "colab_type": "text"
      },
      "cell_type": "markdown",
      "source": [
        "Yes, validation accuracy seems to be a reasonably good estimate of test accuracy. Validation accuracy is 38.44%. Test accuracy is 39.60%"
      ]
    },
    {
      "metadata": {
        "colab_type": "text",
        "id": "NoGPF3W7WU_X",
        "tags": [
          "HST"
        ]
      },
      "cell_type": "markdown",
      "source": [
        "### Problem 4.2"
      ]
    },
    {
      "metadata": {
        "colab_type": "text",
        "id": "yCDoSETDWXCJ",
        "tags": [
          "HST"
        ]
      },
      "cell_type": "markdown",
      "source": [
        "Repeat the previous experiment _after turning on GPU acceleration_ from the `Runtime->Change runtime type` menu.\n",
        "\n",
        "Are the accuracy values the same as before? Explain why or why not. What is the approximate ratio of running times of CPU (no acceleration) versus GPU training?"
      ]
    },
    {
      "metadata": {
        "colab_type": "text",
        "id": "JRnVqg5gXbvx",
        "tags": [
          "ST"
        ]
      },
      "cell_type": "markdown",
      "source": [
        "### Answer"
      ]
    },
    {
      "metadata": {
        "id": "R8EALgLweJe-",
        "colab_type": "code",
        "outputId": "51b9ff17-bdb0-496d-bd7a-8bbf627a8f75",
        "colab": {
          "base_uri": "https://localhost:8080/",
          "height": 205
        }
      },
      "cell_type": "code",
      "source": [
        "train(model)"
      ],
      "execution_count": 0,
      "outputs": [
        {
          "output_type": "stream",
          "text": [
            "WARNING:tensorflow:From /usr/local/lib/python3.6/dist-packages/tensorflow/python/ops/math_ops.py:3066: to_int32 (from tensorflow.python.ops.math_ops) is deprecated and will be removed in a future version.\n",
            "Instructions for updating:\n",
            "Use tf.cast instead.\n",
            "Train on 40000 samples, validate on 10000 samples\n",
            "Epoch 1/1\n",
            " - 21s - loss: 2.0015 - acc: 0.2606 - val_loss: 1.7166 - val_acc: 0.3831\n",
            "10000/10000 [==============================] - 2s 163us/step\n",
            "Test loss: 1.711593028640747\n",
            "Test accuracy: 0.3812\n"
          ],
          "name": "stdout"
        },
        {
          "output_type": "execute_result",
          "data": {
            "text/plain": [
              "[[0], [0.260625], [0.3831]]"
            ]
          },
          "metadata": {
            "tags": []
          },
          "execution_count": 4
        }
      ]
    },
    {
      "metadata": {
        "id": "2FITR73Of0eu",
        "colab_type": "text"
      },
      "cell_type": "markdown",
      "source": [
        "Accuracy values are about the same as before. I repeated some experiments. Sometimes, GPU training resulted in higher test and validation accuracy. Sometimes, CPU training did.\n",
        "\n",
        "For this experiment, CPU training took 218s while GPU training took 21s. The approximate ratio of runtime of CPU versus GPU training is 10. That is, the runtime of CPU training was approximately ten times that of GPU training. "
      ]
    },
    {
      "metadata": {
        "colab_type": "text",
        "id": "UL293H0_YerN",
        "tags": [
          "HST"
        ]
      },
      "cell_type": "markdown",
      "source": [
        "### Problem 4.3"
      ]
    },
    {
      "metadata": {
        "colab_type": "text",
        "id": "hw67mTPzYg-4",
        "tags": [
          "HST"
        ]
      },
      "cell_type": "markdown",
      "source": [
        "We keep GPU acceleration turned on from now on.\n",
        "\n",
        "Repeat the experiment above with the ADAM optimizer with the default parameters. This optimizer selects the descent step size adaptively. The ADAM optimizer is invoked by using parameter `opt = keras.optimizers.Adam()` in `train`.\n",
        "\n",
        "Compare accuracies and running times with those achieved in the previous experiment."
      ]
    },
    {
      "metadata": {
        "colab_type": "text",
        "id": "PRFT6uhiZdIj",
        "tags": [
          "ST"
        ]
      },
      "cell_type": "markdown",
      "source": [
        "### Answer"
      ]
    },
    {
      "metadata": {
        "id": "Ohg3olyjiqsY",
        "colab_type": "code",
        "outputId": "c82e9ed2-13ff-4230-eeeb-f6a547f3a2cd",
        "colab": {
          "base_uri": "https://localhost:8080/",
          "height": 134
        }
      },
      "cell_type": "code",
      "source": [
        "train(model, opt = keras.optimizers.Adam())"
      ],
      "execution_count": 0,
      "outputs": [
        {
          "output_type": "stream",
          "text": [
            "Train on 40000 samples, validate on 10000 samples\n",
            "Epoch 1/1\n",
            " - 18s - loss: 1.5904 - acc: 0.4202 - val_loss: 1.2326 - val_acc: 0.5586\n",
            "10000/10000 [==============================] - 2s 165us/step\n",
            "Test loss: 1.2449142942428588\n",
            "Test accuracy: 0.5531\n"
          ],
          "name": "stdout"
        },
        {
          "output_type": "execute_result",
          "data": {
            "text/plain": [
              "[[0], [0.420175], [0.5586]]"
            ]
          },
          "metadata": {
            "tags": []
          },
          "execution_count": 8
        }
      ]
    },
    {
      "metadata": {
        "id": "5Xf9l12zjRea",
        "colab_type": "text"
      },
      "cell_type": "markdown",
      "source": [
        "Test accuracy increased! From less than 40% in 4.1 and 4.2 to 55.31% in 4.3. Validation accuracy increased by a similar margin, to 55.86%.\n",
        "\n",
        "Runtime decreased again, to 18s. It was 21s in 4.2 and 218s in 4.1."
      ]
    },
    {
      "metadata": {
        "colab_type": "text",
        "id": "KEp7_h36bC7R",
        "tags": [
          "HST"
        ]
      },
      "cell_type": "markdown",
      "source": [
        "### Problem 4.4"
      ]
    },
    {
      "metadata": {
        "colab_type": "text",
        "id": "UxdkfA9ibFUM",
        "tags": [
          "HST"
        ]
      },
      "cell_type": "markdown",
      "source": [
        "We use the ADAM optimizer with default parameters from now on.\n",
        "\n",
        "Repeat the previous experiment with 30 epochs of training instead of 1 (`epochs=30`). This time, store the value returned by `train`, as you will need it for plotting.\n",
        "\n",
        "When done, plot both training accuracy and validation accuracy as functions of epoch number on the same diagram. Label the axes and add a legend to specify which plot is which.\n",
        "\n",
        "Do you think that the classifier would perform much better if you were to train longer? Explain briefly."
      ]
    },
    {
      "metadata": {
        "colab_type": "text",
        "id": "Pw9glyaNvwQ6",
        "tags": [
          "HST"
        ]
      },
      "cell_type": "markdown",
      "source": [
        "#### Programming Notes\n",
        "\n",
        "+ Look at the definition of `train` to figure out what the output from that function contains.\n",
        "+ Set the value of the `verbose` parameter in the call to `train` to 0 to suppress output, which would be too long to include in your PDF file. You can estimate from your previous experiments how long the code will take to run. Alternatively, set `verbose` to 2 in early test runs, but then set it to 0 in your final run."
      ]
    },
    {
      "metadata": {
        "tags": [
          "ST"
        ],
        "id": "s9FRK1OuRoAf",
        "colab_type": "text"
      },
      "cell_type": "markdown",
      "source": [
        "### Answer"
      ]
    },
    {
      "metadata": {
        "id": "EkPUcWbel5wJ",
        "colab_type": "code",
        "outputId": "e0ee0bbf-f2b1-41c8-9ce8-02bb4c0a54a7",
        "colab": {
          "base_uri": "https://localhost:8080/",
          "height": 67
        }
      },
      "cell_type": "code",
      "source": [
        "history = train(model, epochs=30, opt=keras.optimizers.Adam(), verbose=0)"
      ],
      "execution_count": 0,
      "outputs": [
        {
          "output_type": "stream",
          "text": [
            "10000/10000 [==============================] - 2s 162us/step\n",
            "Test loss: 0.7111205273628235\n",
            "Test accuracy: 0.7778\n"
          ],
          "name": "stdout"
        }
      ]
    },
    {
      "metadata": {
        "id": "5oPChB2OqSCh",
        "colab_type": "code",
        "colab": {}
      },
      "cell_type": "code",
      "source": [
        "import numpy as np\n",
        "import matplotlib.pyplot as plt"
      ],
      "execution_count": 0,
      "outputs": []
    },
    {
      "metadata": {
        "id": "hekrMEyRqWPw",
        "colab_type": "code",
        "outputId": "c918a7a2-7517-4614-a1ff-9cdcaed0ce63",
        "colab": {
          "base_uri": "https://localhost:8080/",
          "height": 365
        }
      },
      "cell_type": "code",
      "source": [
        "plt.scatter(history[0], history[1], label='Training Accuracy')\n",
        "plt.scatter(history[0], history[2], label='Validation Accuracy')\n",
        "plt.ylim(0, 1)\n",
        "plt.xlabel(\"Epoch\")\n",
        "plt.ylabel(\"Accuracy\", rotation=0, labelpad=30)\n",
        "plt.legend(loc=7)\n",
        "plt.yticks(np.arange(0, 1.1, step=0.1))\n",
        "plt.show()"
      ],
      "execution_count": 0,
      "outputs": [
        {
          "output_type": "display_data",
          "data": {
            "image/png": "[encoded data removed]",
            "text/plain": [
              "<Figure size 576x396 with 1 Axes>"
            ]
          },
          "metadata": {
            "tags": []
          }
        }
      ]
    },
    {
      "metadata": {
        "id": "1rb7EzOWzl8-",
        "colab_type": "text"
      },
      "cell_type": "markdown",
      "source": [
        "I don't think the classifier would perform much better if I were to train longer! I mean, I think it might perform *slightly* better. But the marginal increase in accuracy decreases with each additional epoch. Accuracy is quite flat after fifteen or so epochs, so I don't think training for longer will make much of a difference."
      ]
    },
    {
      "metadata": {
        "colab_type": "text",
        "id": "UxdW8dV4uoCq",
        "tags": [
          "HST"
        ]
      },
      "cell_type": "markdown",
      "source": [
        "### Problem 4.5"
      ]
    },
    {
      "metadata": {
        "colab_type": "text",
        "id": "A97WOgV8uweq",
        "tags": [
          "HST"
        ]
      },
      "cell_type": "markdown",
      "source": [
        "Suggest at least three different ways to improve the performance of the classifier defined in this Part. For each way, explain why that would help. This is an open-ended question, and answers may vary. Do _not_ implement your suggestions, and do _not_ refer to techniques we have not covered in class (such as batch normalization or other techniques you may have heard of).\n",
        "\n",
        "If you suggest more than three ways, we will grade you for the best ones. However, we _will_ deduct points for patently wrong statements in any of your suggestions."
      ]
    },
    {
      "metadata": {
        "colab_type": "text",
        "id": "12XxnmJwnYzN",
        "tags": [
          "ST"
        ]
      },
      "cell_type": "markdown",
      "source": [
        "### Answer"
      ]
    },
    {
      "metadata": {
        "id": "Oi7W0xi74EGc",
        "colab_type": "text"
      },
      "cell_type": "markdown",
      "source": [
        "1. Cross-validation. This would help because it mitigates overfitting. Without cross-validation, we may be finding relationships in the training data that just occur by chance with our particular training dataset. With cross-validation, we vary our choice of training dataset.\n",
        "\n",
        "2. Try different Adam parameters (learning rate, learning rate decay, etc.). The current parameters may have found a local minimum instead of the global minimum.\n",
        "\n",
        "3. Try different weights.\n",
        "\n",
        "4. Alter the dataset by transforming old observations. By resizing, rotating, and compressing instances, we allow for greater generalization. In this way, we may train a model to be invariate to size, rotation, and scale. This helps with classifying distorted images."
      ]
    }
  ]
}
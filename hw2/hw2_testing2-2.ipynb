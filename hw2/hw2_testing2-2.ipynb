{
 "cells": [
  {
   "cell_type": "markdown",
   "metadata": {
    "tags": [
     "T"
    ]
   },
   "source": [
    "> **Student Names and IDs**:\n",
    ">\n",
    "> - Usa Kerdnunvong, 1950448\n",
    "> - Kyle Gartrell, 2491988\n",
    "> - Neil Pruthi, 2419654"
   ]
  },
  {
   "cell_type": "markdown",
   "metadata": {
    "tags": [
     "HST"
    ]
   },
   "source": [
    "# Homework 2"
   ]
  },
  {
   "cell_type": "markdown",
   "metadata": {
    "tags": [
     "HST"
    ]
   },
   "source": [
    "## Part 2: Convolution"
   ]
  },
  {
   "cell_type": "markdown",
   "metadata": {
    "tags": [
     "HST"
    ]
   },
   "source": [
    "### Problem 2.1"
   ]
  },
  {
   "cell_type": "markdown",
   "metadata": {
    "tags": [
     "HST"
    ]
   },
   "source": [
    "Write a function with header\n",
    "\n",
    "    def convolve(a, b, ctype='same'):\n",
    "\n",
    "that takes two one-dimensional `numpy` arrays `a` and `b` and an optional convolution type specification `ctype` and returns the convolution of the two arrays as a `numpy` array. Assume that sequence `a` is no shorter than sequence `b`.\n",
    "\n",
    "The possible values for `ctype` are `'full'`, `'same'` (the default), and `'valid'`. For the last two types, `a` is the signal and `b` is the kernel. For instance, `'same'` means that the output has the same size as `a`.\n",
    "\n",
    "Show your code and the result of running the given test cases, which compare your implementation to `numpy.convolve`. It is OK if the `dtype` of your output differs from that of `numpy.convolve`."
   ]
  },
  {
   "cell_type": "markdown",
   "metadata": {
    "tags": [
     "ST"
    ]
   },
   "source": [
    "### Answer"
   ]
  },
  {
   "cell_type": "code",
   "execution_count": 2,
   "metadata": {
    "tags": [
     "T"
    ]
   },
   "outputs": [],
   "source": [
    "# Your answer here\n",
    "def convolve(a, b, ctype = 'same'):\n",
    "    \n",
    "    # sizes of a and b\n",
    "    len_a = len(a) \n",
    "    len_b = len(b)\n",
    "    \n",
    "    # variables set up by ctype\n",
    "    if ctype == 'valid':\n",
    "        len_res = len_a - len_b + 1\n",
    "        a2 = a\n",
    "        \n",
    "    elif ctype == 'full':\n",
    "        len_res = len_a + len_b - 1\n",
    "        a2 = np.insert(a, len_a, np.zeros(len_b - 1))\n",
    "        a2 = np.insert(a2, 0, np.zeros(len_b - 1))\n",
    "        \n",
    "    elif ctype == 'same':\n",
    "        len_res = len_a\n",
    "        if len_b % 2 == 0:\n",
    "            center = int(len_b / 2 + 1)\n",
    "        else: \n",
    "            center = int(np.ceil(len_b / 2))\n",
    "        a2 = np.insert(a, len_a, np.zeros(len_b - center))\n",
    "        a2 = np.insert(a2, 0, np.zeros(center - 1))\n",
    "        \n",
    "    # results set up\n",
    "    result = np.zeros(len_res)\n",
    "    \n",
    "    # loop over to do convolution equation\n",
    "    for i in list(range(len_res)):\n",
    "        \n",
    "        # preferred code\n",
    "        # result[i] = np.dot(np.flip(a2[i:(i + len_b)]), b)\n",
    "        \n",
    "        # alternative\n",
    "        for j in list(range(len_b)):\n",
    "            result[i] += a2[i + len_b - j - 1] * b[j]\n",
    "        \n",
    "    return result"
   ]
  },
  {
   "cell_type": "code",
   "execution_count": 3,
   "metadata": {
    "tags": [
     "ST"
    ]
   },
   "outputs": [
    {
     "name": "stdout",
     "output_type": "stream",
     "text": [
      "convolve:\n",
      "full: [  4.   2.  -8.  -5.  11.   6.  -5. -10.]\n",
      "same: [ 2. -8. -5. 11.  6.]\n",
      "valid: [-5. 11.]\n",
      "\n",
      "numpy.convolve:\n",
      "full: [  4   2  -8  -5  11   6  -5 -10]\n",
      "same: [ 2 -8 -5 11  6]\n",
      "valid: [-5 11]\n",
      "\n"
     ]
    }
   ],
   "source": [
    "import numpy as np\n",
    "\n",
    "signal = np.array([2, 1, -3, 0, 5])\n",
    "kernel = np.array([2, 0, -1, -2])\n",
    "ctypes = ('full', 'same', 'valid')\n",
    "\n",
    "try:\n",
    "    print('convolve:')\n",
    "    for ctype in ctypes:\n",
    "        print(ctype, ': ', convolve(signal, kernel, ctype), sep='')\n",
    "    print()\n",
    "    \n",
    "    print('numpy.convolve:')\n",
    "    for ctype in ctypes:\n",
    "        print(ctype, ': ', np.convolve(signal, kernel, ctype), sep='')\n",
    "    print()\n",
    "except NameError:\n",
    "    print('uh-oh')\n",
    "    pass"
   ]
  },
  {
   "cell_type": "markdown",
   "metadata": {
    "tags": [
     "HST"
    ]
   },
   "source": [
    "### Problem 2.2"
   ]
  },
  {
   "cell_type": "markdown",
   "metadata": {
    "tags": [
     "HST"
    ]
   },
   "source": [
    "Write a function with header\n",
    "\n",
    "    def convolve2d(I, H):\n",
    "    \n",
    "that takes a two-dimensional numerical `numpy` array `I` and a two-dimensional numerical `numpy` array `H`, both non-empty, _and uses_ `np.convolve` (the `numpy` one-dimensional convolution function) to implement the (two-dimensional) convolution of `I` and `H` of style `same`. Do _not_ use any other convolution operators.\n",
    "\n",
    "Show your code and the result of running the given test cases, which compare your implementation to `scipy.signal.convolve2d` when called with the `'same'` option. It is OK if the `dtype` of your output differs from that of `scipy.signal.convolve2d`."
   ]
  },
  {
   "cell_type": "markdown",
   "metadata": {
    "tags": [
     "ST"
    ]
   },
   "source": [
    "### Answer"
   ]
  },
  {
   "cell_type": "code",
   "execution_count": 4,
   "metadata": {},
   "outputs": [],
   "source": [
    "def convolve2d(I,H):\n",
    "    \n",
    "    # dimension of inputs \n",
    "    shape_i = I.shape\n",
    "    shape_h = H.shape\n",
    "    \n",
    "    # bounds of summing over vertically \n",
    "    neg_hv = -1 * int(np.floor(shape_h[0] / 2))\n",
    "    pos_hv = shape_h[0] + neg_hv    \n",
    "    \n",
    "    # result \n",
    "    result = np.zeros(I.shape)\n",
    "    \n",
    "    # cases (top, middle, bottom, respectively) looping through rows of convolution centers\n",
    "    for y in list(range(shape_i[0])):    \n",
    "        \n",
    "        # case check\n",
    "        if y < -neg_hv:\n",
    "            list_c = list(range(pos_hv + y))\n",
    "        elif y + pos_hv <= shape_i[0]:\n",
    "            list_c = list(range(neg_hv + y, pos_hv + y))\n",
    "        else: \n",
    "            list_c = list(range(y + neg_hv, shape_i[0]))\n",
    "        \n",
    "        # convolution calculation\n",
    "        for a in list_c:\n",
    "            result[y] += np.convolve(I[a], H[shape_h[0] - a + y + neg_hv - 1], 'same') \n",
    "    \n",
    "    return result"
   ]
  },
  {
   "cell_type": "code",
   "execution_count": 171,
   "metadata": {
    "tags": [
     "ST"
    ]
   },
   "outputs": [
    {
     "name": "stdout",
     "output_type": "stream",
     "text": [
      "----\n",
      "convolve2d:\n",
      "[[10. 11. 12.]\n",
      " [20. 21. 22.]\n",
      " [30. 31. 32.]]\n",
      "\n",
      "scipy.signal.convolve2d:\n",
      "[[10 11 12]\n",
      " [20 21 22]\n",
      " [30 31 32]]\n",
      "\n",
      "----\n",
      "convolve2d:\n",
      "[[ 10.  -9. -10.]\n",
      " [ 20. -19. -20.]\n",
      " [ 30. -29. -30.]]\n",
      "\n",
      "scipy.signal.convolve2d:\n",
      "[[ 10  -9 -10]\n",
      " [ 20 -19 -20]\n",
      " [ 30 -29 -30]]\n",
      "\n",
      "----\n",
      "convolve2d:\n",
      "[[20. 22. 24.]\n",
      " [30. 31. 32.]\n",
      " [40. 41. 42.]]\n",
      "\n",
      "scipy.signal.convolve2d:\n",
      "[[20 22 24]\n",
      " [30 31 32]\n",
      " [40 41 42]]\n",
      "\n",
      "----\n",
      "convolve2d:\n",
      "[[ 52. 107.  91.]\n",
      " [146. 265. 182.]\n",
      " [236. 415. 272.]]\n",
      "\n",
      "scipy.signal.convolve2d:\n",
      "[[ 52 107  91]\n",
      " [146 265 182]\n",
      " [236 415 272]]\n",
      "\n",
      "----\n",
      "convolve2d:\n",
      "[[146. 265. 182.]\n",
      " [237. 436. 282.]\n",
      " [125. 199.  51.]]\n",
      "\n",
      "scipy.signal.convolve2d:\n",
      "[[146 265 182]\n",
      " [237 436 282]\n",
      " [125 199  51]]\n",
      "\n"
     ]
    }
   ],
   "source": [
    "from scipy import signal as ss\n",
    "import numpy as np\n",
    "\n",
    "a = np.array([[10, 11, 12], \n",
    "              [20, 21, 22],\n",
    "              [30, 31, 32]])\n",
    "hList = (np.array([[1]]), np.array([[1, -2]]), np.array([[2], [-1]]),\n",
    "         np.array([[2, 3, 5], [4, 0, 1]]), np.array([[2, 3, 5], [4, 0, 1], [1, -1, 2]]))\n",
    "\n",
    "try:\n",
    "    for h in hList:\n",
    "        c = convolve2d(a, h)\n",
    "        s = ss.convolve2d(a, h, 'same')\n",
    "\n",
    "        print('----')\n",
    "        print('convolve2d:', c, sep='\\n', end='\\n\\n')\n",
    "        print('scipy.signal.convolve2d:', s, sep='\\n', end='\\n\\n')\n",
    "except NameError:\n",
    "    pass"
   ]
  },
  {
   "cell_type": "markdown",
   "metadata": {},
   "source": [
    "### Testing convolve2D."
   ]
  },
  {
   "cell_type": "code",
   "execution_count": 210,
   "metadata": {},
   "outputs": [],
   "source": [
    "n_conv = 50 # number of tests\n",
    "\n",
    "# generate image sizes\n",
    "# each size is (m, n)\n",
    "image_sizes = zip(abs(np.random.normal(2.5, size=n_conv) + 1).astype(int), \\\n",
    "                  abs(np.random.normal(2.5, size=n_conv) + 1).astype(int))\n",
    "image_sizes_list = list(image_sizes)\n",
    "\n",
    "# generate kernel sizes\n",
    "# there is a bug here that makes it possible to have a kernel of length or width zero\n",
    "# my approach takes the dimensions of the image and subtracts random numbers from its length and width\n",
    "kernel_sizes_list = [(abs(m - min(np.random.randint(1, 3), 1)) + 1, abs(n - min(np.random.randint(1, 3), 1)) + 1) for m, n in image_sizes_list]"
   ]
  },
  {
   "cell_type": "code",
   "execution_count": 211,
   "metadata": {},
   "outputs": [],
   "source": [
    "test_images = []\n",
    "test_kernels = []\n",
    "\n",
    "# we generated image and kernel sizes\n",
    "# now we have to generate images and kernels that have those sizes!\n",
    "for i in range(n_conv):\n",
    "    test_images.append(np.random.randint(0, 100, size=image_sizes_list[i]))\n",
    "    test_kernels.append(np.random.randint(0, 100, size=kernel_sizes_list[i]))"
   ]
  },
  {
   "cell_type": "code",
   "execution_count": 218,
   "metadata": {},
   "outputs": [
    {
     "name": "stdout",
     "output_type": "stream",
     "text": [
      "\r",
      " value of i when this cell finished running:  0\r",
      " value of i when this cell finished running:  1\r",
      " value of i when this cell finished running:  2\r",
      " value of i when this cell finished running:  3\r",
      " value of i when this cell finished running:  4\r",
      " value of i when this cell finished running:  5\r",
      " value of i when this cell finished running:  6\r",
      " value of i when this cell finished running:  7\r",
      " value of i when this cell finished running:  8\r",
      " value of i when this cell finished running:  9\r",
      " value of i when this cell finished running:  10\r",
      " value of i when this cell finished running:  11\r",
      " value of i when this cell finished running:  12\r",
      " value of i when this cell finished running:  13\r",
      " value of i when this cell finished running:  14\r",
      " value of i when this cell finished running:  15\r",
      " value of i when this cell finished running:  16\r",
      " value of i when this cell finished running:  17\r",
      " value of i when this cell finished running:  18\r",
      " value of i when this cell finished running:  19\r",
      " value of i when this cell finished running:  20\r",
      " value of i when this cell finished running:  21\r",
      " value of i when this cell finished running:  22\r",
      " value of i when this cell finished running:  23\r",
      " value of i when this cell finished running:  24\r",
      " value of i when this cell finished running:  25\r",
      " value of i when this cell finished running:  26\r",
      " value of i when this cell finished running:  27\r",
      " value of i when this cell finished running:  28\r",
      " value of i when this cell finished running:  29\r",
      " value of i when this cell finished running:  30\r",
      " value of i when this cell finished running:  31\r",
      " value of i when this cell finished running:  32\r",
      " value of i when this cell finished running:  33\r",
      " value of i when this cell finished running:  34\r",
      " value of i when this cell finished running:  35\r",
      " value of i when this cell finished running:  36\r",
      " value of i when this cell finished running:  37\r",
      " value of i when this cell finished running:  38\r",
      " value of i when this cell finished running:  39\r",
      " value of i when this cell finished running:  40\r",
      " value of i when this cell finished running:  41\r",
      " value of i when this cell finished running:  42\r",
      " value of i when this cell finished running:  43\r",
      " value of i when this cell finished running:  44\r",
      " value of i when this cell finished running:  45\r",
      " value of i when this cell finished running:  46\r",
      " value of i when this cell finished running:  47\r",
      " value of i when this cell finished running:  48\r",
      " value of i when this cell finished running:  49"
     ]
    }
   ],
   "source": [
    "correct = np.zeros(n_conv)\n",
    "for i in range(n_conv):\n",
    "    print(\"\\r\", 'value of i when this cell finished running: ', i, end=\"\")\n",
    "    \n",
    "    # check if ss.convolve and convolve2d return the same output image\n",
    "    if np.all(ss.convolve(test_images[i], test_kernels[i], 'same') == convolve2d(test_images[i], test_kernels[i])):\n",
    "        correct[i] = 1"
   ]
  },
  {
   "cell_type": "code",
   "execution_count": 217,
   "metadata": {},
   "outputs": [
    {
     "data": {
      "text/plain": [
       "1.0"
      ]
     },
     "execution_count": 217,
     "metadata": {},
     "output_type": "execute_result"
    }
   ],
   "source": [
    "# accuracy rate\n",
    "np.sum(correct) / len(correct)"
   ]
  },
  {
   "cell_type": "markdown",
   "metadata": {},
   "source": [
    "#### For debugging"
   ]
  },
  {
   "cell_type": "code",
   "execution_count": 213,
   "metadata": {},
   "outputs": [
    {
     "data": {
      "text/plain": [
       "array([[21,  8],\n",
       "       [20, 22]])"
      ]
     },
     "execution_count": 213,
     "metadata": {},
     "output_type": "execute_result"
    }
   ],
   "source": [
    "# print last image used\n",
    "test_images[i]"
   ]
  },
  {
   "cell_type": "code",
   "execution_count": 214,
   "metadata": {},
   "outputs": [
    {
     "data": {
      "text/plain": [
       "array([[99, 34],\n",
       "       [52, 81]])"
      ]
     },
     "execution_count": 214,
     "metadata": {},
     "output_type": "execute_result"
    }
   ],
   "source": [
    "# print last kernel used\n",
    "test_kernels[i]"
   ]
  },
  {
   "cell_type": "code",
   "execution_count": 215,
   "metadata": {},
   "outputs": [
    {
     "data": {
      "text/plain": [
       "(2, 2)"
      ]
     },
     "execution_count": 215,
     "metadata": {},
     "output_type": "execute_result"
    }
   ],
   "source": [
    "# print dimensions of last image used\n",
    "image_sizes_list[i]"
   ]
  },
  {
   "cell_type": "code",
   "execution_count": 216,
   "metadata": {},
   "outputs": [
    {
     "data": {
      "text/plain": [
       "(2, 2)"
      ]
     },
     "execution_count": 216,
     "metadata": {},
     "output_type": "execute_result"
    }
   ],
   "source": [
    "# print dimensions of last kernel used\n",
    "kernel_sizes_list[i]"
   ]
  }
 ],
 "metadata": {
  "kernelspec": {
   "display_name": "Python 3",
   "language": "python",
   "name": "python3"
  },
  "language_info": {
   "codemirror_mode": {
    "name": "ipython",
    "version": 3
   },
   "file_extension": ".py",
   "mimetype": "text/x-python",
   "name": "python",
   "nbconvert_exporter": "python",
   "pygments_lexer": "ipython3",
   "version": "3.6.8"
  }
 },
 "nbformat": 4,
 "nbformat_minor": 2
}

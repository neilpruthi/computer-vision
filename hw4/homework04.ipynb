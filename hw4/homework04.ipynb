{
 "cells": [
  {
   "cell_type": "markdown",
   "metadata": {
    "tags": [
     "T"
    ]
   },
   "source": [
    "> **Student Names and IDs**:\n",
    ">\n",
    "> - Neil Pruthi, 2419654"
   ]
  },
  {
   "cell_type": "markdown",
   "metadata": {
    "tags": [
     "HST"
    ]
   },
   "source": [
    "# Homework 4"
   ]
  },
  {
   "cell_type": "markdown",
   "metadata": {
    "tags": [
     "HST"
    ]
   },
   "source": [
    "## Part 3: Optimization and the SVD"
   ]
  },
  {
   "cell_type": "code",
   "execution_count": 1,
   "metadata": {
    "tags": [
     "HST"
    ]
   },
   "outputs": [],
   "source": [
    "import numpy as np\n",
    "from scipy.optimize import minimize_scalar\n",
    "\n",
    "def normalize(v):\n",
    "    n = np.linalg.norm(v)\n",
    "    if n > 0:\n",
    "        v = v / n\n",
    "    return v, n\n",
    "\n",
    "# sphere_search returns a new point z1, not a search step size\n",
    "def sphere_step(f, g, z0, epsilon=1.e-6, args=()):\n",
    "    assert epsilon > 0 and epsilon < 1, 'epsilon must be in (0, 1)'\n",
    "    assert z0.size > 1, 'sphere must be at least 2-dimensional'\n",
    "    \n",
    "    n0, delta = 0, 0\n",
    "    while n0 < epsilon:\n",
    "        z0 += delta * np.sqrt(epsilon) * np.random.random(z0.shape)\n",
    "        z0, _ = normalize(z0)\n",
    "        p0 = -g(z0, *args)  # Starting direction\n",
    "        # Project p0 onto the tangent hyperplane to the sphere at z0 and normalize\n",
    "        s0, n0 = normalize(p0 - np.dot(z0, p0) * z0)\n",
    "        delta = 1\n",
    "    \n",
    "    def h(theta, args):\n",
    "        return f(z0 * np.cos(theta) + s0 * np.sin(theta), args)\n",
    "    \n",
    "    res = minimize_scalar(h, bracket=(0, 1), args=args)\n",
    "    theta = res.x\n",
    "    return z0 * np.cos(theta) + s0 * np.sin(theta)"
   ]
  },
  {
   "cell_type": "markdown",
   "metadata": {
    "tags": [
     "HST"
    ]
   },
   "source": [
    "### Problem 3.1"
   ]
  },
  {
   "cell_type": "markdown",
   "metadata": {
    "tags": [
     "HST"
    ]
   },
   "source": [
    "Write a function with the following header and `assert` statements:\n",
    "\n",
    "    def first(A, epsilon=1.e-6, maxiter=10):\n",
    "        assert A.size > 0, 'array cannot be empty'\n",
    "        assert np.max(np.abs(A)) >= epsilon, 'array cannot be zero'\n",
    "\n",
    "that uses `sphere_step` iteratively to return the tuple `u, sigma, v` of the first left singular vector, first singular value, and first right singular vector of `A`.\n",
    "\n",
    "Show your code and the results of running the given tests. You may want to compare your results with those obtained with an off-the-shelf implementation of the SVD. However, do **not** submit your comparison, and do not use SVDs anywhere in your code."
   ]
  },
  {
   "cell_type": "markdown",
   "metadata": {
    "tags": [
     "ST"
    ]
   },
   "source": [
    "### Answer"
   ]
  },
  {
   "cell_type": "code",
   "execution_count": 179,
   "metadata": {
    "tags": [
     "T"
    ]
   },
   "outputs": [],
   "source": [
    "from random import gauss\n",
    "\n",
    "def first(A, epsilon=1.e-6, maxiter=10):\n",
    "    assert A.size > 0, 'array cannot be empty'\n",
    "    assert np.max(np.abs(A)) >= epsilon, 'array cannot be zero'\n",
    "    \n",
    "    # choose random vector for z0\n",
    "    z0 = [gauss(0, 1) for i in range(A.shape[1])]\n",
    "    \n",
    "    # normalize vector and convert from list to numpy array\n",
    "    mag = sum(x**2 for x in z0)**0.5\n",
    "    z0 = np.asarray([x/mag for x in z0])\n",
    "    \n",
    "    def f(u, A):\n",
    "        return -u.T @ A.T @ A @ u\n",
    "        \n",
    "    def g(u, A):\n",
    "        return -2 * A.T @ A @ u\n",
    "    \n",
    "    if np.min(A.shape) < 2:\n",
    "        sigma = float(np.linalg.norm(A))\n",
    "        if A.shape[1] == 1:\n",
    "            return np.squeeze(A / sigma), sigma, np.array([1])\n",
    "        if A.shape[0] == 1:\n",
    "            return np.array([1]), sigma, np.squeeze(A / sigma)\n",
    "    \n",
    "    for i in range(maxiter):\n",
    "        z_k = z0\n",
    "        z0 = sphere_step(f, g, z0, epsilon=epsilon, args=(A, ))\n",
    "        if np.linalg.norm(z_k - z0) < epsilon:\n",
    "            break\n",
    "        \n",
    "    v1 = z0\n",
    "    sigma = float(np.linalg.norm(A @ v1))\n",
    "    u1 = (A @ v1) / sigma\n",
    "    \n",
    "    return u1, sigma, v1"
   ]
  },
  {
   "cell_type": "code",
   "execution_count": 180,
   "metadata": {
    "tags": [
     "ST"
    ]
   },
   "outputs": [
    {
     "name": "stdout",
     "output_type": "stream",
     "text": [
      "========== testing first ==========\n",
      "A\n",
      "[[ 1.2247  1.2247]\n",
      " [-2.1213  2.1213]\n",
      " [ 0.7071  0.7071]]\n",
      "\n",
      "u\n",
      "[-0. -1. -0.]\n",
      "\n",
      "sigma\n",
      "2.9999999999999996\n",
      "\n",
      "v\n",
      "[ 0.7071 -0.7071]\n",
      "\n",
      "========== testing first ==========\n",
      "A\n",
      "[[ 2.  0. -1.  3.]\n",
      " [ 4.  0. -2.  6.]\n",
      " [ 6.  0. -3.  9.]]\n",
      "\n",
      "u\n",
      "[0.2673 0.5345 0.8018]\n",
      "\n",
      "sigma\n",
      "14.000000000000002\n",
      "\n",
      "v\n",
      "[ 0.5345 -0.     -0.2673  0.8018]\n",
      "\n",
      "========== testing first ==========\n",
      "A\n",
      "[[3.]\n",
      " [0.]\n",
      " [4.]]\n",
      "\n",
      "u\n",
      "[0.6 0.  0.8]\n",
      "\n",
      "sigma\n",
      "5.0\n",
      "\n",
      "v\n",
      "[1]\n",
      "\n",
      "========== testing first ==========\n",
      "A\n",
      "[[ 4. -3.]]\n",
      "\n",
      "u\n",
      "[1]\n",
      "\n",
      "sigma\n",
      "5.0\n",
      "\n",
      "v\n",
      "[ 0.8 -0.6]\n",
      "\n"
     ]
    }
   ],
   "source": [
    "def test(f, A_list):\n",
    "    def printArray(name, A):\n",
    "        print(name, A, sep='\\n', end='\\n\\n')\n",
    "        \n",
    "    if f.__name__ is 'first':\n",
    "        un, sn, vn = 'u', 'sigma', 'v'\n",
    "        product = False\n",
    "    else:\n",
    "        un, sn, vn = 'U', 'Sigma', 'V'\n",
    "        product = True\n",
    "\n",
    "    np.set_printoptions(precision=4, suppress=True)\n",
    "    \n",
    "    for A in A_list:\n",
    "        U, Sigma, V = f(A)\n",
    "        print('=' * 10, 'testing', f.__name__, '=' * 10)\n",
    "        printArray('A', A)\n",
    "        if product:\n",
    "            printArray(\"U * Sigma * V'\", np.dot(U, np.dot(Sigma, V.T)))\n",
    "        printArray(un, U)\n",
    "        printArray(sn, Sigma)\n",
    "        printArray(vn, V)\n",
    "            \n",
    "s3 = np.sqrt(3)\n",
    "A_list = (np.array([[s3, s3], [-3., 3.], [1., 1.]]) / np.sqrt(2.),\n",
    "          np.outer([1., 2., 3.], [2., 0., -1., 3.]),\n",
    "          np.array([[3.], [0.], [4.]]), np.array([[4., -3.]]))\n",
    "\n",
    "try:\n",
    "    test(first, A_list)\n",
    "except NameError:\n",
    "    pass\n"
   ]
  },
  {
   "cell_type": "markdown",
   "metadata": {
    "tags": [
     "HST"
    ]
   },
   "source": [
    "### Problem 3.2"
   ]
  },
  {
   "cell_type": "markdown",
   "metadata": {
    "tags": [
     "HST"
    ]
   },
   "source": [
    "Use your function `first` to write a function with the following header and `assert` statement that computes the \"tiny\" SVD of a non-empty matrix $A$, with the given specifications:\n",
    "\n",
    "    def SVD(A, epsilon=1.e-3, maxiter=10):\n",
    "        assert A.size > 0, 'array cannot be empty'\n",
    "        \n",
    "The function should return the tuple `U, Sigma, V` of the matrices in the \"tiny\" SVD of `A`, and should comply with the programming notes.\n",
    "        \n",
    "Show your code and the results of running the given tests. You may want to compare your results with those obtained with an off-the-shelf implementation of the SVD. However, do **not** submit your comparison. Do not use library SVDs anywhere in your code."
   ]
  },
  {
   "cell_type": "markdown",
   "metadata": {
    "tags": [
     "ST"
    ]
   },
   "source": [
    "### Answer"
   ]
  },
  {
   "cell_type": "code",
   "execution_count": 193,
   "metadata": {
    "tags": [
     "T"
    ]
   },
   "outputs": [],
   "source": [
    "def SVD(A, epsilon=1.e-3, maxiter=10):\n",
    "    assert A.size > 0, 'array cannot be empty'\n",
    "    \n",
    "    r = np.linalg.matrix_rank(A)\n",
    "    \n",
    "    U = np.zeros((A.shape[0], r))\n",
    "    Sigma = np.zeros((r, r))\n",
    "    V = np.zeros((A.shape[1], r))\n",
    "    \n",
    "    i = 0\n",
    "    while (np.max(np.abs(A)) >= epsilon) and (i < r):\n",
    "        U[:, i], Sigma[i, i], V[:, i] = first(A)\n",
    "        i += 1\n",
    "        A = A - ((np.expand_dims((A @ V[:, 0]), axis=1)) @ (np.expand_dims(V[:, 0], axis=1).T))\n",
    "    \n",
    "    return U, Sigma, V"
   ]
  },
  {
   "cell_type": "code",
   "execution_count": 194,
   "metadata": {
    "tags": [
     "ST"
    ]
   },
   "outputs": [
    {
     "name": "stdout",
     "output_type": "stream",
     "text": [
      "========== testing SVD ==========\n",
      "A\n",
      "[[ 1.2247  1.2247]\n",
      " [-2.1213  2.1213]\n",
      " [ 0.7071  0.7071]]\n",
      "\n",
      "U * Sigma * V'\n",
      "[[ 1.2247  1.2247]\n",
      " [-2.1213  2.1213]\n",
      " [ 0.7071  0.7071]]\n",
      "\n",
      "U\n",
      "[[-0.    -0.866]\n",
      " [-1.     0.   ]\n",
      " [-0.    -0.5  ]]\n",
      "\n",
      "Sigma\n",
      "[[3. 0.]\n",
      " [0. 2.]]\n",
      "\n",
      "V\n",
      "[[ 0.7071 -0.7071]\n",
      " [-0.7071 -0.7071]]\n",
      "\n",
      "========== testing SVD ==========\n",
      "A\n",
      "[[ 2.  0. -1.  3.]\n",
      " [ 4.  0. -2.  6.]\n",
      " [ 6.  0. -3.  9.]]\n",
      "\n",
      "U * Sigma * V'\n",
      "[[ 2. -0. -1.  3.]\n",
      " [ 4. -0. -2.  6.]\n",
      " [ 6. -0. -3.  9.]]\n",
      "\n",
      "U\n",
      "[[0.2673]\n",
      " [0.5345]\n",
      " [0.8018]]\n",
      "\n",
      "Sigma\n",
      "[[14.]]\n",
      "\n",
      "V\n",
      "[[ 0.5345]\n",
      " [-0.    ]\n",
      " [-0.2673]\n",
      " [ 0.8018]]\n",
      "\n",
      "========== testing SVD ==========\n",
      "A\n",
      "[[3.]\n",
      " [0.]\n",
      " [4.]]\n",
      "\n",
      "U * Sigma * V'\n",
      "[[3.]\n",
      " [0.]\n",
      " [4.]]\n",
      "\n",
      "U\n",
      "[[0.6]\n",
      " [0. ]\n",
      " [0.8]]\n",
      "\n",
      "Sigma\n",
      "[[5.]]\n",
      "\n",
      "V\n",
      "[[1.]]\n",
      "\n",
      "========== testing SVD ==========\n",
      "A\n",
      "[[ 4. -3.]]\n",
      "\n",
      "U * Sigma * V'\n",
      "[[ 4. -3.]]\n",
      "\n",
      "U\n",
      "[[1.]]\n",
      "\n",
      "Sigma\n",
      "[[5.]]\n",
      "\n",
      "V\n",
      "[[ 0.8]\n",
      " [-0.6]]\n",
      "\n"
     ]
    }
   ],
   "source": [
    "s3 = np.sqrt(3)\n",
    "A_list = (np.array([[s3, s3], [-3., 3.], [1., 1.]]) / np.sqrt(2.),\n",
    "          np.outer([1., 2., 3.], [2., 0., -1., 3.]),\n",
    "          np.array([[3.], [0.], [4.]]), np.array([[4., -3.]]))\n",
    "\n",
    "try:\n",
    "    test(SVD, A_list)\n",
    "except NameError:\n",
    "    pass"
   ]
  }
 ],
 "metadata": {
  "kernelspec": {
   "display_name": "Python 3",
   "language": "python",
   "name": "python3"
  },
  "language_info": {
   "codemirror_mode": {
    "name": "ipython",
    "version": 3
   },
   "file_extension": ".py",
   "mimetype": "text/x-python",
   "name": "python",
   "nbconvert_exporter": "python",
   "pygments_lexer": "ipython3",
   "version": "3.6.8"
  }
 },
 "nbformat": 4,
 "nbformat_minor": 2
}
